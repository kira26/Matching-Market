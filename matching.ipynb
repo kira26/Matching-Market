{
 "cells": [
  {
   "cell_type": "markdown",
   "metadata": {},
   "source": [
    "#Matching Market\n",
    "##Table of Contents\n",
    "・[One-to-One Matching](#One-to-One-Matching)  \n",
    "・[Many-to-One Matching](#Many-to-One-Matching)  \n",
    "・[Modeling Simulation](#Modeling-Simulation)  \n",
    "\n",
    "Import a class, Matching() from [matching.py](https://github.com/yoshimasaogawa/Matching-Theory/blob/master/matching.py).  "
   ]
  },
  {
   "cell_type": "code",
   "execution_count": 1,
   "metadata": {
    "collapsed": false
   },
   "outputs": [],
   "source": [
    "# coding: UTF-8\n",
    "%matplotlib inline\n",
    "from matching import * \n",
    "from matching_simu import *"
   ]
  },
  {
   "cell_type": "markdown",
   "metadata": {},
   "source": [
    "##One-to-One Matching\n",
    "  \n",
    "### 1) Deffered Acceptance\n",
    "Based on this [wiki](https://ja.wikipedia.org/wiki/%E5%AE%89%E5%AE%9A%E7%B5%90%E5%A9%9A%E5%95%8F%E9%A1%8C).  "
   ]
  },
  {
   "cell_type": "code",
   "execution_count": 2,
   "metadata": {
    "collapsed": false
   },
   "outputs": [],
   "source": [
    "prop_prefs = [[1, 0, 2],\n",
    "                         [0, 1, 2],\n",
    "                         [0, 1, 2]]\n",
    "resp_prefs = [[0, 2, 1],\n",
    "                         [1, 0, 2],\n",
    "                         [1, 0, 2]]"
   ]
  },
  {
   "cell_type": "code",
   "execution_count": 3,
   "metadata": {
    "collapsed": false
   },
   "outputs": [],
   "source": [
    "M1 = Matching(prop_prefs, resp_prefs)"
   ]
  },
  {
   "cell_type": "code",
   "execution_count": 4,
   "metadata": {
    "collapsed": false
   },
   "outputs": [],
   "source": [
    "prop_matched, resp_matched = M1.DA()"
   ]
  },
  {
   "cell_type": "code",
   "execution_count": 5,
   "metadata": {
    "collapsed": false
   },
   "outputs": [
    {
     "data": {
      "text/plain": [
       "array([0, 1, 2])"
      ]
     },
     "execution_count": 5,
     "metadata": {},
     "output_type": "execute_result"
    }
   ],
   "source": [
    "prop_matched"
   ]
  },
  {
   "cell_type": "code",
   "execution_count": 6,
   "metadata": {
    "collapsed": false
   },
   "outputs": [
    {
     "data": {
      "text/plain": [
       "array([0, 1, 2])"
      ]
     },
     "execution_count": 6,
     "metadata": {},
     "output_type": "execute_result"
    }
   ],
   "source": [
    "resp_matched"
   ]
  },
  {
   "cell_type": "code",
   "execution_count": 7,
   "metadata": {
    "collapsed": false
   },
   "outputs": [
    {
     "name": "stdout",
     "output_type": "stream",
     "text": [
      "-----Initial Setting-----\n",
      "The number of proposers : 3\n",
      "The number of respondants : 3\n",
      "Preference of proposers : (unmatched = 3)\n",
      "[[1 0 2]\n",
      " [0 1 2]\n",
      " [0 1 2]]\n",
      "Preference of respondants : (unmatched = 3)\n",
      "[[0 2 1]\n",
      " [1 0 2]\n",
      " [1 0 2]]\n",
      "-----Matching Type-----\n",
      "One-to-One Matching\n",
      "Deffered Acceptance\n",
      "-----Result-----\n",
      "Stable matching pairs\n",
      "Proposers side : \n",
      "[0 1 2]\n",
      "Respondants side : \n",
      "[0 1 2]\n"
     ]
    }
   ],
   "source": [
    "M1.summary()"
   ]
  },
  {
   "cell_type": "code",
   "execution_count": 8,
   "metadata": {
    "collapsed": false
   },
   "outputs": [
    {
     "data": {
      "image/png": "[encoded data removed]",
      "text/plain": [
       "<matplotlib.figure.Figure at 0x103ea6350>"
      ]
     },
     "metadata": {},
     "output_type": "display_data"
    }
   ],
   "source": [
    "M1.graph()"
   ]
  },
  {
   "cell_type": "markdown",
   "metadata": {},
   "source": [
    "### 2) Top Trading Cycle\n",
    "Initial settings are the same as the above."
   ]
  },
  {
   "cell_type": "code",
   "execution_count": 9,
   "metadata": {
    "collapsed": true
   },
   "outputs": [],
   "source": [
    "prop_matched, resp_matched = M1.TTC()"
   ]
  },
  {
   "cell_type": "code",
   "execution_count": 10,
   "metadata": {
    "collapsed": false
   },
   "outputs": [
    {
     "data": {
      "text/plain": [
       "array([1, 0, 2])"
      ]
     },
     "execution_count": 10,
     "metadata": {},
     "output_type": "execute_result"
    }
   ],
   "source": [
    "prop_matched"
   ]
  },
  {
   "cell_type": "code",
   "execution_count": 11,
   "metadata": {
    "collapsed": false
   },
   "outputs": [
    {
     "data": {
      "text/plain": [
       "array([1, 0, 2])"
      ]
     },
     "execution_count": 11,
     "metadata": {},
     "output_type": "execute_result"
    }
   ],
   "source": [
    "resp_matched"
   ]
  },
  {
   "cell_type": "code",
   "execution_count": 12,
   "metadata": {
    "collapsed": false
   },
   "outputs": [
    {
     "name": "stdout",
     "output_type": "stream",
     "text": [
      "-----Initial Setting-----\n",
      "The number of proposers : 3\n",
      "The number of respondants : 3\n",
      "Preference of proposers : (unmatched = 3)\n",
      "[[1 0 2]\n",
      " [0 1 2]\n",
      " [0 1 2]]\n",
      "Preference of respondants : (unmatched = 3)\n",
      "[[0 2 1]\n",
      " [1 0 2]\n",
      " [1 0 2]]\n",
      "-----Matching Type-----\n",
      "One-to-One Matching\n",
      "Top Trading Cycle\n",
      "-----Result-----\n",
      "Stable matching pairs\n",
      "Proposers side : \n",
      "[1 0 2]\n",
      "Respondants side : \n",
      "[1 0 2]\n"
     ]
    }
   ],
   "source": [
    "M1.summary()"
   ]
  },
  {
   "cell_type": "code",
   "execution_count": 13,
   "metadata": {
    "collapsed": false
   },
   "outputs": [
    {
     "data": {
      "image/png": "[encoded data removed]",
      "text/plain": [
       "<matplotlib.figure.Figure at 0x1072a5750>"
      ]
     },
     "metadata": {},
     "output_type": "display_data"
    }
   ],
   "source": [
    "M1.graph()"
   ]
  },
  {
   "cell_type": "markdown",
   "metadata": {},
   "source": [
    "### 3) The Boston Public Schools System\n",
    "Initial settings are the same as the above."
   ]
  },
  {
   "cell_type": "code",
   "execution_count": 14,
   "metadata": {
    "collapsed": false
   },
   "outputs": [],
   "source": [
    "prop_matched, resp_matched = M1.BS()"
   ]
  },
  {
   "cell_type": "code",
   "execution_count": 15,
   "metadata": {
    "collapsed": false
   },
   "outputs": [
    {
     "data": {
      "text/plain": [
       "array([1, 2, 0])"
      ]
     },
     "execution_count": 15,
     "metadata": {},
     "output_type": "execute_result"
    }
   ],
   "source": [
    "prop_matched"
   ]
  },
  {
   "cell_type": "code",
   "execution_count": 16,
   "metadata": {
    "collapsed": false
   },
   "outputs": [
    {
     "data": {
      "text/plain": [
       "array([2, 0, 1])"
      ]
     },
     "execution_count": 16,
     "metadata": {},
     "output_type": "execute_result"
    }
   ],
   "source": [
    "resp_matched"
   ]
  },
  {
   "cell_type": "code",
   "execution_count": 17,
   "metadata": {
    "collapsed": false
   },
   "outputs": [
    {
     "name": "stdout",
     "output_type": "stream",
     "text": [
      "-----Initial Setting-----\n",
      "The number of proposers : 3\n",
      "The number of respondants : 3\n",
      "Preference of proposers : (unmatched = 3)\n",
      "[[1 0 2]\n",
      " [0 1 2]\n",
      " [0 1 2]]\n",
      "Preference of respondants : (unmatched = 3)\n",
      "[[0 2 1]\n",
      " [1 0 2]\n",
      " [1 0 2]]\n",
      "-----Matching Type-----\n",
      "One-to-One Matching\n",
      "Boston Algorithm\n",
      "-----Result-----\n",
      "Stable matching pairs\n",
      "Proposers side : \n",
      "[1 2 0]\n",
      "Respondants side : \n",
      "[2 0 1]\n"
     ]
    }
   ],
   "source": [
    "M1.summary()"
   ]
  },
  {
   "cell_type": "code",
   "execution_count": 18,
   "metadata": {
    "collapsed": false
   },
   "outputs": [
    {
     "data": {
      "image/png": "[encoded data removed]",
      "text/plain": [
       "<matplotlib.figure.Figure at 0x107359550>"
      ]
     },
     "metadata": {},
     "output_type": "display_data"
    }
   ],
   "source": [
    "M1.graph()"
   ]
  },
  {
   "cell_type": "markdown",
   "metadata": {
    "collapsed": true
   },
   "source": [
    "##Many-to-One Matching\n",
    "Assume that the number of students is 4, that of laboratories is 3 and each laboratory has a capacity.  "
   ]
  },
  {
   "cell_type": "code",
   "execution_count": 19,
   "metadata": {
    "collapsed": false
   },
   "outputs": [],
   "source": [
    "prop_prefs = [[1, 2, 0],\n",
    "                         [2, 0, 1],\n",
    "                         [2, 1, 0],\n",
    "                         [2, 0, 1]]\n",
    "resp_prefs = [[3, 2, 1, 0],\n",
    "                         [2, 1, 3, 0],\n",
    "                         [0, 1, 3, 2]]\n",
    "caps = [1, 2, 2]"
   ]
  },
  {
   "cell_type": "code",
   "execution_count": 20,
   "metadata": {
    "collapsed": false
   },
   "outputs": [],
   "source": [
    "M2 = Matching(prop_prefs, resp_prefs, caps)"
   ]
  },
  {
   "cell_type": "markdown",
   "metadata": {},
   "source": [
    "### 1) Deffered Acceptance"
   ]
  },
  {
   "cell_type": "code",
   "execution_count": 21,
   "metadata": {
    "collapsed": false
   },
   "outputs": [],
   "source": [
    "prop_matched, resp_matched, indptr = M2.DA()"
   ]
  },
  {
   "cell_type": "code",
   "execution_count": 22,
   "metadata": {
    "collapsed": false
   },
   "outputs": [
    {
     "data": {
      "text/plain": [
       "array([1, 2, 1, 2])"
      ]
     },
     "execution_count": 22,
     "metadata": {},
     "output_type": "execute_result"
    }
   ],
   "source": [
    "prop_matched"
   ]
  },
  {
   "cell_type": "code",
   "execution_count": 23,
   "metadata": {
    "collapsed": false
   },
   "outputs": [
    {
     "data": {
      "text/plain": [
       "array([4, 2, 0, 1, 3])"
      ]
     },
     "execution_count": 23,
     "metadata": {},
     "output_type": "execute_result"
    }
   ],
   "source": [
    "resp_matched"
   ]
  },
  {
   "cell_type": "code",
   "execution_count": 24,
   "metadata": {
    "collapsed": false
   },
   "outputs": [
    {
     "data": {
      "text/plain": [
       "array([0, 1, 3, 5])"
      ]
     },
     "execution_count": 24,
     "metadata": {},
     "output_type": "execute_result"
    }
   ],
   "source": [
    "indptr"
   ]
  },
  {
   "cell_type": "code",
   "execution_count": 25,
   "metadata": {
    "collapsed": false
   },
   "outputs": [
    {
     "name": "stdout",
     "output_type": "stream",
     "text": [
      "-----Initial Setting-----\n",
      "The number of proposers : 4\n",
      "The number of respondants : 3\n",
      "Preference of proposers : (unmatched = 3)\n",
      "[[1 2 0]\n",
      " [2 0 1]\n",
      " [2 1 0]\n",
      " [2 0 1]]\n",
      "Preference of respondants : (unmatched = 4)\n",
      "[[3 2 1 0]\n",
      " [2 1 3 0]\n",
      " [0 1 3 2]]\n",
      "Capacity of respondants : \n",
      "[1, 2, 2]\n",
      "-----Matching Type-----\n",
      "Many-to-One Matching\n",
      "Deffered Acceptance\n",
      "-----Result-----\n",
      "Stable matching pairs\n",
      "Proposers side : \n",
      "[1 2 1 2]\n",
      "Respondants side : \n",
      "[4 2 0 1 3]\n",
      "indptr : \n",
      "[0 1 3 5]\n"
     ]
    }
   ],
   "source": [
    "M2.summary()"
   ]
  },
  {
   "cell_type": "code",
   "execution_count": 26,
   "metadata": {
    "collapsed": false
   },
   "outputs": [
    {
     "data": {
      "image/png": "[encoded data removed]",
      "text/plain": [
       "<matplotlib.figure.Figure at 0x1074c9950>"
      ]
     },
     "metadata": {},
     "output_type": "display_data"
    }
   ],
   "source": [
    "M2.graph()"
   ]
  },
  {
   "cell_type": "markdown",
   "metadata": {},
   "source": [
    "###2) Top Trading Cycle\n",
    "Initial settings are the same as the above."
   ]
  },
  {
   "cell_type": "code",
   "execution_count": 27,
   "metadata": {
    "collapsed": true
   },
   "outputs": [],
   "source": [
    "prop_matched, resp_matched, indptr = M2.TTC()"
   ]
  },
  {
   "cell_type": "code",
   "execution_count": 28,
   "metadata": {
    "collapsed": false
   },
   "outputs": [
    {
     "data": {
      "text/plain": [
       "array([1, 2, 2, 0])"
      ]
     },
     "execution_count": 28,
     "metadata": {},
     "output_type": "execute_result"
    }
   ],
   "source": [
    "prop_matched"
   ]
  },
  {
   "cell_type": "code",
   "execution_count": 29,
   "metadata": {
    "collapsed": false
   },
   "outputs": [
    {
     "data": {
      "text/plain": [
       "array([3, 4, 0, 1, 2])"
      ]
     },
     "execution_count": 29,
     "metadata": {},
     "output_type": "execute_result"
    }
   ],
   "source": [
    "resp_matched"
   ]
  },
  {
   "cell_type": "code",
   "execution_count": 30,
   "metadata": {
    "collapsed": false
   },
   "outputs": [
    {
     "data": {
      "text/plain": [
       "array([0, 1, 3, 5])"
      ]
     },
     "execution_count": 30,
     "metadata": {},
     "output_type": "execute_result"
    }
   ],
   "source": [
    "indptr"
   ]
  },
  {
   "cell_type": "code",
   "execution_count": 31,
   "metadata": {
    "collapsed": false
   },
   "outputs": [
    {
     "name": "stdout",
     "output_type": "stream",
     "text": [
      "-----Initial Setting-----\n",
      "The number of proposers : 4\n",
      "The number of respondants : 3\n",
      "Preference of proposers : (unmatched = 3)\n",
      "[[1 2 0]\n",
      " [2 0 1]\n",
      " [2 1 0]\n",
      " [2 0 1]]\n",
      "Preference of respondants : (unmatched = 4)\n",
      "[[3 2 1 0]\n",
      " [2 1 3 0]\n",
      " [0 1 3 2]]\n",
      "Capacity of respondants : \n",
      "[1, 2, 2]\n",
      "-----Matching Type-----\n",
      "Many-to-One Matching\n",
      "Top Trading Cycle\n",
      "-----Result-----\n",
      "Stable matching pairs\n",
      "Proposers side : \n",
      "[1 2 2 0]\n",
      "Respondants side : \n",
      "[3 4 0 1 2]\n",
      "indptr : \n",
      "[0 1 3 5]\n"
     ]
    }
   ],
   "source": [
    "M2.summary()"
   ]
  },
  {
   "cell_type": "code",
   "execution_count": 32,
   "metadata": {
    "collapsed": false
   },
   "outputs": [
    {
     "data": {
      "image/png": "[encoded data removed]",
      "text/plain": [
       "<matplotlib.figure.Figure at 0x1075cd950>"
      ]
     },
     "metadata": {},
     "output_type": "display_data"
    }
   ],
   "source": [
    "M2.graph()"
   ]
  },
  {
   "cell_type": "markdown",
   "metadata": {},
   "source": [
    "### 3) The Boston Public Schools System\n",
    "Initial settings are the same as the above."
   ]
  },
  {
   "cell_type": "code",
   "execution_count": 33,
   "metadata": {
    "collapsed": false
   },
   "outputs": [],
   "source": [
    "prop_matched, resp_matched, indptr = M2.BS()"
   ]
  },
  {
   "cell_type": "code",
   "execution_count": 34,
   "metadata": {
    "collapsed": false
   },
   "outputs": [
    {
     "data": {
      "text/plain": [
       "array([1, 2, 1, 2])"
      ]
     },
     "execution_count": 34,
     "metadata": {},
     "output_type": "execute_result"
    }
   ],
   "source": [
    "prop_matched"
   ]
  },
  {
   "cell_type": "code",
   "execution_count": 35,
   "metadata": {
    "collapsed": false
   },
   "outputs": [
    {
     "data": {
      "text/plain": [
       "array([4, 2, 0, 3, 1])"
      ]
     },
     "execution_count": 35,
     "metadata": {},
     "output_type": "execute_result"
    }
   ],
   "source": [
    "resp_matched"
   ]
  },
  {
   "cell_type": "code",
   "execution_count": 36,
   "metadata": {
    "collapsed": false
   },
   "outputs": [
    {
     "data": {
      "text/plain": [
       "array([0, 1, 3, 5])"
      ]
     },
     "execution_count": 36,
     "metadata": {},
     "output_type": "execute_result"
    }
   ],
   "source": [
    "indptr"
   ]
  },
  {
   "cell_type": "code",
   "execution_count": 37,
   "metadata": {
    "collapsed": false
   },
   "outputs": [
    {
     "data": {
      "image/png": "[encoded data removed]",
      "text/plain": [
       "<matplotlib.figure.Figure at 0x1076b1950>"
      ]
     },
     "metadata": {},
     "output_type": "display_data"
    }
   ],
   "source": [
    "M2.graph()"
   ]
  },
  {
   "cell_type": "markdown",
   "metadata": {},
   "source": [
    "##Modeling Simulation\n",
    "Utility Function for the i-th student is given as follows.  \n",
    "\n",
    "$U_{i} = \\alpha CV_{j} + (1-\\alpha) PV_{ij}$  \n",
    "\n",
    "$CV_{j}$ means a common value to the j-th laboratory.  \n",
    "$PV_{ij}$ means the i-th student's private value to the j-th laboratory.   \n",
    "These are uniformly distributed over [0, 1).  \n",
    "$\\alpha$ is a parameter, default set is 0.8.\n",
    "\n",
    "Suppose that the preferences of the students are decided by this utility function,   \n",
    "and the number of students is 100, that of laboratories is 20.\n",
    "\n",
    "Simulate 3000 times at each capacity  \n",
    "and return an average rank. "
   ]
  },
  {
   "cell_type": "code",
   "execution_count": 38,
   "metadata": {
    "collapsed": false
   },
   "outputs": [],
   "source": [
    "caps_list = [5, 7, 9, 11, 13, 15]\n",
    "aves_DA = simulate(caps_list, 'DA')\n",
    "aves_TTC = simulate(caps_list, 'TTC')\n",
    "aves_BS = simulate(caps_list, 'BS')"
   ]
  },
  {
   "cell_type": "code",
   "execution_count": 39,
   "metadata": {
    "collapsed": false
   },
   "outputs": [
    {
     "data": {
      "text/plain": [
       "[4.6918033333333335,\n",
       " 2.28063333333334,\n",
       " 1.8561500000000173,\n",
       " 1.5031266666666707,\n",
       " 1.4060633333333263,\n",
       " 1.3812533333333377]"
      ]
     },
     "execution_count": 39,
     "metadata": {},
     "output_type": "execute_result"
    }
   ],
   "source": [
    "aves_DA"
   ]
  },
  {
   "cell_type": "code",
   "execution_count": 40,
   "metadata": {
    "collapsed": false
   },
   "outputs": [
    {
     "data": {
      "text/plain": [
       "[2.7613533333333318,\n",
       " 2.0869066666666587,\n",
       " 1.666336666666665,\n",
       " 1.4666366666666673,\n",
       " 1.3929833333333324,\n",
       " 1.230013333333341]"
      ]
     },
     "execution_count": 40,
     "metadata": {},
     "output_type": "execute_result"
    }
   ],
   "source": [
    "aves_TTC"
   ]
  },
  {
   "cell_type": "code",
   "execution_count": 41,
   "metadata": {
    "collapsed": false
   },
   "outputs": [
    {
     "data": {
      "text/plain": [
       "[3.6134166666666703,\n",
       " 2.0507066666666631,\n",
       " 1.7239300000000197,\n",
       " 1.4885100000000013,\n",
       " 1.4230666666666771,\n",
       " 1.3206033333333462]"
      ]
     },
     "execution_count": 41,
     "metadata": {},
     "output_type": "execute_result"
    }
   ],
   "source": [
    "aves_BS"
   ]
  },
  {
   "cell_type": "code",
   "execution_count": 42,
   "metadata": {
    "collapsed": false
   },
   "outputs": [
    {
     "data": {
      "image/png": "[encoded data removed]",
      "text/plain": [
       "<matplotlib.figure.Figure at 0x10782d610>"
      ]
     },
     "metadata": {},
     "output_type": "display_data"
    }
   ],
   "source": [
    "plt.plot(caps_list, aves_DA, label=\"DA\")\n",
    "plt.plot(caps_list, aves_TTC, label=\"TTC\")\n",
    "plt.plot(caps_list, aves_BS, label=\"BS\")\n",
    "plt.title('Compare the mechanisms')\n",
    "plt.xlim(5, 15)\n",
    "plt.ylim(1, 5)\n",
    "plt.xlabel('Capacity')\n",
    "plt.ylabel('Average Rank')\n",
    "plt.legend(loc=1)\n",
    "plt.show()"
   ]
  }
 ],
 "metadata": {
  "kernelspec": {
   "display_name": "Python 2",
   "language": "python",
   "name": "python2"
  },
  "language_info": {
   "codemirror_mode": {
    "name": "ipython",
    "version": 2
   },
   "file_extension": ".py",
   "mimetype": "text/x-python",
   "name": "python",
   "nbconvert_exporter": "python",
   "pygments_lexer": "ipython2",
   "version": "2.7.10"
  }
 },
 "nbformat": 4,
 "nbformat_minor": 0
}
