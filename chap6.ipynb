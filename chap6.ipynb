{
 "cells": [
  {
   "cell_type": "markdown",
   "metadata": {},
   "source": [
    "#卒業論文\n",
    "-----\n",
    "###第6章「経済実験」"
   ]
  },
  {
   "cell_type": "code",
   "execution_count": 1,
   "metadata": {
    "collapsed": true
   },
   "outputs": [],
   "source": [
    "# coding: UTF-8\n",
    "%matplotlib inline\n",
    "import itertools\n",
    "import numpy as np\n",
    "import matplotlib.pyplot as plt\n",
    "import matchfuncs as mf"
   ]
  },
  {
   "cell_type": "code",
   "execution_count": 2,
   "metadata": {
    "collapsed": true
   },
   "outputs": [],
   "source": [
    "prop_num = 4\n",
    "resp_num = 4\n",
    "prop_prefs = [\n",
    "    [3, 1, 0, 2],\n",
    "    [1, 3, 2, 0],\n",
    "    [2, 3, 0, 1],\n",
    "    [3, 1, 2, 0]\n",
    "]\n",
    "resp_prefs = [\n",
    "    [3, 0, 2, 1],\n",
    "    [3, 0, 2, 1],\n",
    "    [3, 0, 2, 1],\n",
    "    [3, 0, 2, 1]\n",
    "]\n",
    "prop_caps = [1, 1, 2, 2]\n",
    "resp_caps = [1, 1, 2, 2]\n",
    "list_length = 2"
   ]
  },
  {
   "cell_type": "code",
   "execution_count": 3,
   "metadata": {
    "collapsed": false
   },
   "outputs": [
    {
     "name": "stdout",
     "output_type": "stream",
     "text": [
      "prop_matched = [3 1 2 0 3 2]\n",
      "resp_matched = [2 1 2 3 0 3]\n",
      "prop_indptr = [0 1 2 4 6]\n",
      "resp_indptr = [0 1 2 4 6]\n"
     ]
    },
    {
     "data": {
      "image/png": "[encoded data removed]",
      "text/plain": [
       "<matplotlib.figure.Figure at 0x107df0750>"
      ]
     },
     "metadata": {},
     "output_type": "display_data"
    }
   ],
   "source": [
    "prop_matched, resp_matched, prop_indptr, resp_indptr = mf.BOS(prop_prefs, resp_prefs, resp_caps, prop_caps, list_length)\n",
    "print('prop_matched = ' + str(prop_matched))\n",
    "print('resp_matched = ' + str(resp_matched))\n",
    "print('prop_indptr = ' + str(prop_indptr))\n",
    "print('resp_indptr = ' + str(resp_indptr))\n",
    "mf.Graph(prop_matched, resp_matched, prop_indptr, resp_indptr, prop_name=[\"1\", \"2\", \"3\", \"4\"], resp_name=[\"A\", \"B\", \"C\", \"D\"])\n",
    "plt.savefig('bos.png', dpi=150)"
   ]
  },
  {
   "cell_type": "code",
   "execution_count": 5,
   "metadata": {
    "collapsed": false
   },
   "outputs": [
    {
     "name": "stdout",
     "output_type": "stream",
     "text": [
      "prop_matched = [3 4 2 4 3 1]\n",
      "resp_matched = [4 3 2 4 0 3]\n",
      "prop_indptr = [0 1 2 4 6]\n",
      "resp_indptr = [0 1 2 4 6]\n"
     ]
    },
    {
     "data": {
      "image/png": "[encoded data removed]",
      "text/plain": [
       "<matplotlib.figure.Figure at 0x10801ac10>"
      ]
     },
     "metadata": {},
     "output_type": "display_data"
    }
   ],
   "source": [
    "prop_matched, resp_matched, prop_indptr, resp_indptr = mf.DA(prop_prefs, resp_prefs, resp_caps, prop_caps, list_length)\n",
    "print('prop_matched = ' + str(prop_matched))\n",
    "print('resp_matched = ' + str(resp_matched))\n",
    "print('prop_indptr = ' + str(prop_indptr))\n",
    "print('resp_indptr = ' + str(resp_indptr))\n",
    "mf.Graph(prop_matched, resp_matched, prop_indptr, resp_indptr, prop_name=[\"1\", \"2\", \"3\", \"4\"], resp_name=[\"A\", \"B\", \"C\", \"D\"])\n",
    "plt.savefig('da.png', dpi=150)"
   ]
  },
  {
   "cell_type": "code",
   "execution_count": 6,
   "metadata": {
    "collapsed": false
   },
   "outputs": [
    {
     "data": {
      "text/plain": [
       "(1.0, 4.0, 1.0, 0.5, 0.0, 0.0, 6.0)"
      ]
     },
     "execution_count": 6,
     "metadata": {},
     "output_type": "execute_result"
    }
   ],
   "source": [
    "mf.Comp('BOS', prop_prefs, prop_prefs, resp_prefs, resp_caps, prop_caps, list_length)"
   ]
  },
  {
   "cell_type": "code",
   "execution_count": 7,
   "metadata": {
    "collapsed": false
   },
   "outputs": [
    {
     "data": {
      "text/plain": [
       "(2.0, 4.0, 0.5, 0.5, 1.0, 2.0, 8.0)"
      ]
     },
     "execution_count": 7,
     "metadata": {},
     "output_type": "execute_result"
    }
   ],
   "source": [
    "mf.Comp('DA', prop_prefs, prop_prefs, resp_prefs, resp_caps, prop_caps, list_length)"
   ]
  },
  {
   "cell_type": "code",
   "execution_count": 7,
   "metadata": {
    "collapsed": true
   },
   "outputs": [],
   "source": [
    "data1 = np.loadtxt(\"data/grad/data1.csv\",delimiter=\",\").astype(int)"
   ]
  },
  {
   "cell_type": "code",
   "execution_count": 8,
   "metadata": {
    "collapsed": false
   },
   "outputs": [],
   "source": [
    "data2 = np.loadtxt(\"data/grad/data2.csv\",delimiter=\",\").astype(int)"
   ]
  },
  {
   "cell_type": "code",
   "execution_count": 9,
   "metadata": {
    "collapsed": false
   },
   "outputs": [
    {
     "name": "stdout",
     "output_type": "stream",
     "text": [
      "[ 1.8  1.6  1.3  0.8  0.   1.   6. ]\n"
     ]
    }
   ],
   "source": [
    "list_length = 2\n",
    "values1 = [0, 0, 0, 0, 0, 0, 0]\n",
    "for i in range(5):\n",
    "    prefs = data1[4*i:4*i+4].tolist()\n",
    "    values1 += np.array(mf.Comp('BOS', prefs, prop_prefs, resp_prefs, resp_caps, prop_caps, list_length))\n",
    "values1 /= 5\n",
    "print(values1)"
   ]
  },
  {
   "cell_type": "code",
   "execution_count": 10,
   "metadata": {
    "collapsed": false
   },
   "outputs": [
    {
     "name": "stdout",
     "output_type": "stream",
     "text": [
      "[ 2.8  0.6  1.3  0.2  0.6  0.8  8. ]\n"
     ]
    }
   ],
   "source": [
    "list_length = 2\n",
    "values2 = [0, 0, 0, 0, 0, 0, 0]\n",
    "for i in range(5):\n",
    "    prefs = data2[4*i:4*i+4].tolist()\n",
    "    values2 += np.array(mf.Comp('DA', prefs, prop_prefs, resp_prefs, resp_caps, prop_caps, list_length))\n",
    "values2 /= 5\n",
    "print(values2)"
   ]
  }
 ],
 "metadata": {
  "kernelspec": {
   "display_name": "Python 2",
   "language": "python",
   "name": "python2"
  },
  "language_info": {
   "codemirror_mode": {
    "name": "ipython",
    "version": 2
   },
   "file_extension": ".py",
   "mimetype": "text/x-python",
   "name": "python",
   "nbconvert_exporter": "python",
   "pygments_lexer": "ipython2",
   "version": "2.7.10"
  }
 },
 "nbformat": 4,
 "nbformat_minor": 0
}
