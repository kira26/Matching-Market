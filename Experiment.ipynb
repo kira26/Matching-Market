{
 "cells": [
  {
   "cell_type": "code",
   "execution_count": null,
   "metadata": {
    "collapsed": true
   },
   "outputs": [],
   "source": [
    "%matplotlib inline\n",
    "import matchfuncs as mf\n",
    "import numpy as np\n",
    "import pandas as pd\n",
    "import matplotlib.pyplot as plt"
   ]
  },
  {
   "cell_type": "code",
   "execution_count": null,
   "metadata": {
    "collapsed": false
   },
   "outputs": [],
   "source": [
    "prop_num = 9\n",
    "resp_num = 4\n",
    "prop_caps = [2, 2, 2, 1, 1, 1, 1, 1, 1]\n",
    "resp_caps = [2, 2, 4, 4]\n",
    "prop_prefs_cv = np.array([\n",
    "        [0, 3, 2, 1],\n",
    "        [0, 3, 1, 2],\n",
    "        [0, 3, 1, 2],\n",
    "        [0, 2, 3, 1],\n",
    "        [3, 0, 1, 2],\n",
    "        [0, 3, 2, 1],\n",
    "        [3, 2, 0, 1],\n",
    "        [3, 2, 0, 1],\n",
    "        [0, 2, 3, 1]])\n",
    "resp_prefs_cv = np.array([\n",
    "        [0, 3, 2, 8, 7, 5, 1, 6, 4],\n",
    "        [0, 3, 2, 8, 7, 5, 1, 6, 4],\n",
    "        [0, 3, 2, 8, 7, 5, 1, 6, 4],\n",
    "        [0, 3, 2, 8, 7, 5, 1, 6, 4]])\n",
    "prop_prefs_rd = np.array([\n",
    "        [3, 2, 1, 0],\n",
    "        [0, 1, 2, 3],\n",
    "        [0, 3, 1, 2],\n",
    "        [2, 0, 3, 1],\n",
    "        [2, 3, 0, 1],\n",
    "        [2, 0, 1, 3],\n",
    "        [3, 2, 0, 1],\n",
    "        [0, 2, 3, 1],\n",
    "        [2, 3, 1, 0]])\n",
    "resp_prefs_rd = np.array([\n",
    "        [7, 4, 2, 8, 6, 3, 1, 5, 0],\n",
    "        [7, 4, 2, 8, 6, 3, 1, 5, 0],\n",
    "        [7, 4, 2, 8, 6, 3, 1, 5, 0],\n",
    "        [7, 4, 2, 8, 6, 3, 1, 5, 0]])\n",
    "list_length = 3"
   ]
  },
  {
   "cell_type": "code",
   "execution_count": null,
   "metadata": {
    "collapsed": true
   },
   "outputs": [],
   "source": [
    "submit_bos_cv = np.zeros((prop_num, resp_num), dtype=int) + resp_num\n",
    "submit_bos_rd = np.zeros((prop_num, resp_num), dtype=int) + resp_num\n",
    "submit_da_cv = np.zeros((prop_num, resp_num), dtype=int) + resp_num\n",
    "submit_da_rd = np.zeros((prop_num, resp_num), dtype=int) + resp_num\n",
    "submit_daadd_cv = np.zeros((prop_num, resp_num), dtype=int) + resp_num\n",
    "submit_daadd_rd = np.zeros((prop_num, resp_num), dtype=int) + resp_num"
   ]
  },
  {
   "cell_type": "code",
   "execution_count": null,
   "metadata": {
    "collapsed": false
   },
   "outputs": [],
   "source": [
    "data1 = pd.read_csv(\"data/bos_cv.csv\", index_col='Player.id_in_group')\n",
    "data2 = pd.read_csv(\"data/bos_rd.csv\", index_col='Player.id_in_group')\n",
    "data3 = pd.read_csv(\"data/da_cv.csv\", index_col='Player.id_in_group')\n",
    "data4 = pd.read_csv(\"data/da_rd.csv\", index_col='Player.id_in_group')\n",
    "data5 = pd.read_csv(\"data/daadd_cv.csv\", index_col='Player.id_in_group')\n",
    "data6 = pd.read_csv(\"data/daadd_rd.csv\", index_col='Player.id_in_group')"
   ]
  },
  {
   "cell_type": "code",
   "execution_count": null,
   "metadata": {
    "collapsed": false
   },
   "outputs": [],
   "source": [
    "data1 = data1[data1[\"Subsession.round_number\"] == 2]\n",
    "data2 = data2[data2[\"Subsession.round_number\"] == 2]\n",
    "data3 = data3[data3[\"Subsession.round_number\"] == 2]\n",
    "data4 = data4[data4[\"Subsession.round_number\"] == 2]\n",
    "data5 = data5[data5[\"Subsession.round_number\"] == 2]\n",
    "data6 = data6[data6[\"Subsession.round_number\"] == 2]"
   ]
  },
  {
   "cell_type": "code",
   "execution_count": null,
   "metadata": {
    "collapsed": false
   },
   "outputs": [],
   "source": [
    "for prop_id in range(prop_num):\n",
    "    for choice_num in range(resp_num):\n",
    "        submit_da_cv[prop_id][choice_num] = data3[u'Player.choice%s' % str(choice_num+1)][prop_id+1]\n",
    "        submit_da_rd[prop_id][choice_num] = data4[u'Player.choice%s' % str(choice_num+1)][prop_id+1]\n",
    "    for choice_num in range(list_length):\n",
    "        submit_bos_cv[prop_id][choice_num] = data1[u'Player.choice%s' % str(choice_num+1)][prop_id+1]\n",
    "        submit_bos_rd[prop_id][choice_num] = data2[u'Player.choice%s' % str(choice_num+1)][prop_id+1]\n",
    "        submit_daadd_cv[prop_id][choice_num] = data5[u'Player.choice%s' % str(choice_num+1)][prop_id+1]\n",
    "        submit_daadd_rd[prop_id][choice_num] = data6[u'Player.choice%s' % str(choice_num+1)][prop_id+1]"
   ]
  },
  {
   "cell_type": "code",
   "execution_count": null,
   "metadata": {
    "collapsed": true
   },
   "outputs": [],
   "source": [
    "BOS_CV = mf.Comp('BOS', submit_bos_cv, prop_prefs_cv, resp_prefs_cv, resp_caps, prop_caps, list_length)\n",
    "BOS_RD = mf.Comp('BOS', submit_bos_rd, prop_prefs_rd, resp_prefs_rd, resp_caps, prop_caps, list_length)\n",
    "DA_CV = mf.Comp('DA', submit_da_cv, prop_prefs_cv, resp_prefs_cv, resp_caps, prop_caps)\n",
    "DA_RD = mf.Comp('DA', submit_da_rd, prop_prefs_rd, resp_prefs_rd, resp_caps, prop_caps)\n",
    "DAAdd_CV = mf.Comp('DAAdd', submit_daadd_cv, prop_prefs_cv, resp_prefs_cv, resp_caps, prop_caps, list_length)\n",
    "DAAdd_RD = mf.Comp('DAAdd', submit_daadd_rd, prop_prefs_rd, resp_prefs_rd, resp_caps, prop_caps, list_length)"
   ]
  },
  {
   "cell_type": "code",
   "execution_count": null,
   "metadata": {
    "collapsed": false
   },
   "outputs": [],
   "source": [
    "index = range(7)\n",
    "titles = [\n",
    "    'Justified Envy',\n",
    "    'Truth Telling',\n",
    "    'Efficiency of the students',\n",
    "    'Efficiency of the seminars',\n",
    "    'None zemi',\n",
    "    'Vacant Quota',\n",
    "    'Interviews'\n",
    "]\n",
    "for i, title in zip(index, titles):\n",
    "    X1 = [1, 2, 3]\n",
    "    X2 = [1.4, 2.4, 3.4]\n",
    "    ymax = max([BOS_CV[i], BOS_RD[i], DA_CV[i], DA_RD[i], DAAdd_CV[i], DAAdd_RD[i]])\n",
    "    plt.bar(X1, [BOS_CV[i], DA_CV[i], DAAdd_CV[i]], color='b', label='CV', width=0.4, align=\"center\")\n",
    "    plt.bar(X2, [BOS_RD[i], DA_RD[i], DAAdd_RD[i]], color='g', label='RD', width=0.4, align=\"center\")\n",
    "    plt.xticks([1.2, 2.2, 3.2], ['BOS', 'DA', 'DAAdd'])\n",
    "    plt.axis([0.4, 4, 0, ymax+2])\n",
    "    plt.legend(loc=2)\n",
    "    plt.ylabel('Freq')\n",
    "    plt.title(title)\n",
    "    plt.show()"
   ]
  },
  {
   "cell_type": "code",
   "execution_count": null,
   "metadata": {
    "collapsed": true
   },
   "outputs": [],
   "source": []
  }
 ],
 "metadata": {
  "kernelspec": {
   "display_name": "Python 2",
   "language": "python",
   "name": "python2"
  },
  "language_info": {
   "codemirror_mode": {
    "name": "ipython",
    "version": 2
   },
   "file_extension": ".py",
   "mimetype": "text/x-python",
   "name": "python",
   "nbconvert_exporter": "python",
   "pygments_lexer": "ipython2",
   "version": "2.7.10"
  }
 },
 "nbformat": 4,
 "nbformat_minor": 0
}
