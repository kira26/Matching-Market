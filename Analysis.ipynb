{
 "cells": [
  {
   "cell_type": "markdown",
   "metadata": {},
   "source": [
    "# Analysis of the current state\n",
    "---"
   ]
  },
  {
   "cell_type": "code",
   "execution_count": 1,
   "metadata": {
    "collapsed": true
   },
   "outputs": [],
   "source": [
    "%matplotlib inline\n",
    "from __future__ import division\n",
    "import pandas as pd\n",
    "import numpy as np\n",
    "import thinkstats2\n",
    "import thinkplot"
   ]
  },
  {
   "cell_type": "code",
   "execution_count": 2,
   "metadata": {
    "collapsed": false
   },
   "outputs": [
    {
     "data": {
      "text/html": [
       "<div>\n",
       "<table border=\"1\" class=\"dataframe\">\n",
       "  <thead>\n",
       "    <tr style=\"text-align: right;\">\n",
       "      <th></th>\n",
       "      <th>id</th>\n",
       "      <th>name</th>\n",
       "      <th>12</th>\n",
       "      <th>13</th>\n",
       "      <th>14</th>\n",
       "      <th>15_1</th>\n",
       "      <th>15_2</th>\n",
       "      <th>15_3</th>\n",
       "      <th>all</th>\n",
       "      <th>junior</th>\n",
       "      <th>...</th>\n",
       "      <th>s7</th>\n",
       "      <th>s8</th>\n",
       "      <th>s9</th>\n",
       "      <th>s10</th>\n",
       "      <th>s11</th>\n",
       "      <th>s12</th>\n",
       "      <th>s13</th>\n",
       "      <th>s14</th>\n",
       "      <th>s15</th>\n",
       "      <th>s16</th>\n",
       "    </tr>\n",
       "  </thead>\n",
       "  <tbody>\n",
       "    <tr>\n",
       "      <th>0</th>\n",
       "      <td>1</td>\n",
       "      <td>aoki</td>\n",
       "      <td>0</td>\n",
       "      <td>0</td>\n",
       "      <td>9</td>\n",
       "      <td>6</td>\n",
       "      <td>5</td>\n",
       "      <td>0</td>\n",
       "      <td>20</td>\n",
       "      <td>11</td>\n",
       "      <td>...</td>\n",
       "      <td>118</td>\n",
       "      <td>1103</td>\n",
       "      <td>1119</td>\n",
       "      <td>1120</td>\n",
       "      <td>2050</td>\n",
       "      <td>NaN</td>\n",
       "      <td>NaN</td>\n",
       "      <td>NaN</td>\n",
       "      <td>NaN</td>\n",
       "      <td>NaN</td>\n",
       "    </tr>\n",
       "    <tr>\n",
       "      <th>1</th>\n",
       "      <td>2</td>\n",
       "      <td>ishihara</td>\n",
       "      <td>0</td>\n",
       "      <td>0</td>\n",
       "      <td>9</td>\n",
       "      <td>6</td>\n",
       "      <td>8</td>\n",
       "      <td>0</td>\n",
       "      <td>23</td>\n",
       "      <td>14</td>\n",
       "      <td>...</td>\n",
       "      <td>31</td>\n",
       "      <td>42</td>\n",
       "      <td>101</td>\n",
       "      <td>139</td>\n",
       "      <td>171</td>\n",
       "      <td>1042</td>\n",
       "      <td>1058</td>\n",
       "      <td>2044</td>\n",
       "      <td>NaN</td>\n",
       "      <td>NaN</td>\n",
       "    </tr>\n",
       "    <tr>\n",
       "      <th>2</th>\n",
       "      <td>3</td>\n",
       "      <td>itou</td>\n",
       "      <td>0</td>\n",
       "      <td>0</td>\n",
       "      <td>12</td>\n",
       "      <td>13</td>\n",
       "      <td>0</td>\n",
       "      <td>0</td>\n",
       "      <td>25</td>\n",
       "      <td>13</td>\n",
       "      <td>...</td>\n",
       "      <td>174</td>\n",
       "      <td>109</td>\n",
       "      <td>99</td>\n",
       "      <td>96</td>\n",
       "      <td>36</td>\n",
       "      <td>35</td>\n",
       "      <td>34</td>\n",
       "      <td>NaN</td>\n",
       "      <td>NaN</td>\n",
       "      <td>NaN</td>\n",
       "    </tr>\n",
       "    <tr>\n",
       "      <th>3</th>\n",
       "      <td>4</td>\n",
       "      <td>ueda</td>\n",
       "      <td>0</td>\n",
       "      <td>0</td>\n",
       "      <td>10</td>\n",
       "      <td>13</td>\n",
       "      <td>0</td>\n",
       "      <td>0</td>\n",
       "      <td>23</td>\n",
       "      <td>13</td>\n",
       "      <td>...</td>\n",
       "      <td>173</td>\n",
       "      <td>1075</td>\n",
       "      <td>1093</td>\n",
       "      <td>2014</td>\n",
       "      <td>2029</td>\n",
       "      <td>2035</td>\n",
       "      <td>2040</td>\n",
       "      <td>NaN</td>\n",
       "      <td>NaN</td>\n",
       "      <td>NaN</td>\n",
       "    </tr>\n",
       "    <tr>\n",
       "      <th>4</th>\n",
       "      <td>5</td>\n",
       "      <td>oohashi</td>\n",
       "      <td>0</td>\n",
       "      <td>1</td>\n",
       "      <td>4</td>\n",
       "      <td>2</td>\n",
       "      <td>9</td>\n",
       "      <td>0</td>\n",
       "      <td>16</td>\n",
       "      <td>11</td>\n",
       "      <td>...</td>\n",
       "      <td>1009</td>\n",
       "      <td>1034</td>\n",
       "      <td>0</td>\n",
       "      <td>1109</td>\n",
       "      <td>78</td>\n",
       "      <td>NaN</td>\n",
       "      <td>NaN</td>\n",
       "      <td>NaN</td>\n",
       "      <td>NaN</td>\n",
       "      <td>NaN</td>\n",
       "    </tr>\n",
       "  </tbody>\n",
       "</table>\n",
       "<p>5 rows × 29 columns</p>\n",
       "</div>"
      ],
      "text/plain": [
       "   id      name  12  13  14  15_1  15_2  15_3  all  junior ...     s7    s8  \\\n",
       "0   1      aoki   0   0   9     6     5     0   20      11 ...    118  1103   \n",
       "1   2  ishihara   0   0   9     6     8     0   23      14 ...     31    42   \n",
       "2   3      itou   0   0  12    13     0     0   25      13 ...    174   109   \n",
       "3   4      ueda   0   0  10    13     0     0   23      13 ...    173  1075   \n",
       "4   5   oohashi   0   1   4     2     9     0   16      11 ...   1009  1034   \n",
       "\n",
       "     s9   s10   s11   s12   s13   s14  s15  s16  \n",
       "0  1119  1120  2050   NaN   NaN   NaN  NaN  NaN  \n",
       "1   101   139   171  1042  1058  2044  NaN  NaN  \n",
       "2    99    96    36    35    34   NaN  NaN  NaN  \n",
       "3  1093  2014  2029  2035  2040   NaN  NaN  NaN  \n",
       "4     0  1109    78   NaN   NaN   NaN  NaN  NaN  \n",
       "\n",
       "[5 rows x 29 columns]"
      ]
     },
     "execution_count": 2,
     "metadata": {},
     "output_type": "execute_result"
    }
   ],
   "source": [
    "data = pd.read_csv(\"zemi.csv\")\n",
    "data = data[data['junior'] > 0]\n",
    "data.head()"
   ]
  },
  {
   "cell_type": "code",
   "execution_count": 3,
   "metadata": {
    "collapsed": false
   },
   "outputs": [
    {
     "data": {
      "text/plain": [
       "count    42.000000\n",
       "mean      9.190476\n",
       "std       4.244009\n",
       "min       1.000000\n",
       "25%       5.250000\n",
       "50%      10.000000\n",
       "75%      13.000000\n",
       "max      16.000000\n",
       "Name: junior, dtype: float64"
      ]
     },
     "execution_count": 3,
     "metadata": {},
     "output_type": "execute_result"
    }
   ],
   "source": [
    "# summary statistics\n",
    "data['junior'].describe()"
   ]
  },
  {
   "cell_type": "code",
   "execution_count": 4,
   "metadata": {
    "collapsed": false
   },
   "outputs": [
    {
     "data": {
      "image/png": "[encoded data removed]",
      "text/plain": [
       "<matplotlib.figure.Figure at 0x109300490>"
      ]
     },
     "metadata": {},
     "output_type": "display_data"
    }
   ],
   "source": [
    "# histgram\n",
    "junior = thinkstats2.Hist(np.asarray(data['junior']))\n",
    "thinkplot.PrePlot(2)\n",
    "thinkplot.Hist(junior, label='Juniors')\n",
    "thinkplot.Config(title='The number of juniors in each seminar', xlabel='The num of juniors', ylabel='Freq', loc=2, axis=[0, 17, 0, 7])"
   ]
  },
  {
   "cell_type": "code",
   "execution_count": 5,
   "metadata": {
    "collapsed": true
   },
   "outputs": [],
   "source": [
    "# separate seminar from lecture\n",
    "semi = data[data['zemi']==1]\n",
    "lec = data[data['zemi']==0]"
   ]
  },
  {
   "cell_type": "code",
   "execution_count": 6,
   "metadata": {
    "collapsed": false
   },
   "outputs": [
    {
     "data": {
      "text/plain": [
       "count    35.000000\n",
       "mean      9.685714\n",
       "std       3.916567\n",
       "min       3.000000\n",
       "25%       6.000000\n",
       "50%      10.000000\n",
       "75%      13.000000\n",
       "max      16.000000\n",
       "Name: junior, dtype: float64"
      ]
     },
     "execution_count": 6,
     "metadata": {},
     "output_type": "execute_result"
    }
   ],
   "source": [
    "# summary statistics of 'seminar'\n",
    "semi['junior'].describe()"
   ]
  },
  {
   "cell_type": "code",
   "execution_count": 7,
   "metadata": {
    "collapsed": false
   },
   "outputs": [
    {
     "data": {
      "image/png": "[encoded data removed]",
      "text/plain": [
       "<matplotlib.figure.Figure at 0x1094d2c50>"
      ]
     },
     "metadata": {},
     "output_type": "display_data"
    }
   ],
   "source": [
    "# histgram of 'seminar'\n",
    "semi_hist = thinkstats2.Hist(np.asarray(semi['junior']))\n",
    "thinkplot.PrePlot(2)\n",
    "thinkplot.Hist(semi_hist, label='seminar')\n",
    "thinkplot.Config(title='The number of juniors in each seminar', xlabel='The num of juniors', ylabel='Freq', loc=2, axis=[0, 17, 0, 5])"
   ]
  },
  {
   "cell_type": "code",
   "execution_count": 17,
   "metadata": {
    "collapsed": false
   },
   "outputs": [
    {
     "data": {
      "image/png": "[encoded data removed]",
      "text/plain": [
       "<matplotlib.figure.Figure at 0x109e95c10>"
      ]
     },
     "metadata": {},
     "output_type": "display_data"
    }
   ],
   "source": [
    "semi_cmf = thinkstats2.Cdf(np.asarray(semi['junior']))\n",
    "thinkplot.PrePlot(2)\n",
    "thinkplot.Cdf(semi_cmf, label='seminar')\n",
    "thinkplot.Config(title='The number of juniors in each seminar', xlabel='The num of juniors', ylabel='Freq', loc=2, axis=[0, 17, 0, 1])"
   ]
  },
  {
   "cell_type": "code",
   "execution_count": 8,
   "metadata": {
    "collapsed": false
   },
   "outputs": [
    {
     "name": "stdout",
     "output_type": "stream",
     "text": [
      "ERROR\n",
      "('Capa', '339')\n",
      "('Single', 233)\n",
      "('Double', 51)\n",
      "('None', 61)\n",
      "('All', 284)\n"
     ]
    }
   ],
   "source": [
    "junior = []\n",
    "double = []\n",
    "single = []\n",
    "for i in np.asarray(semi[['s1','s2','s3','s4','s5','s6','s7','s8','s9','s10','s11','s12','s13','s14','s15','s16']], dtype=int).reshape(16*35).tolist():\n",
    "    if i >=0:\n",
    "        junior.append(i)\n",
    "hist = thinkstats2.Hist(junior)\n",
    "for val, freq in hist.Items():\n",
    "    if freq == 2:\n",
    "        double.append(val)\n",
    "    elif freq == 1:\n",
    "        single.append(val)\n",
    "    else:\n",
    "        print('ERROR')\n",
    "print('Capa' ,str(len(junior)))\n",
    "print('Single', len(single))\n",
    "print('Double', len(double))\n",
    "print('None', 345-len(single)-len(double))\n",
    "print('All', len(single)+len(double))"
   ]
  }
 ],
 "metadata": {
  "kernelspec": {
   "display_name": "Python 2",
   "language": "python",
   "name": "python2"
  },
  "language_info": {
   "codemirror_mode": {
    "name": "ipython",
    "version": 2
   },
   "file_extension": ".py",
   "mimetype": "text/x-python",
   "name": "python",
   "nbconvert_exporter": "python",
   "pygments_lexer": "ipython2",
   "version": "2.7.10"
  }
 },
 "nbformat": 4,
 "nbformat_minor": 0
}
