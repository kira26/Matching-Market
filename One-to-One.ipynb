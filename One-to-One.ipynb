{
 "cells": [
  {
   "cell_type": "markdown",
   "metadata": {},
   "source": [
    "# One-to-One Matching"
   ]
  },
  {
   "cell_type": "code",
   "execution_count": 1,
   "metadata": {
    "collapsed": true
   },
   "outputs": [],
   "source": [
    "# coding: UTF-8\n",
    "%matplotlib inline\n",
    "import matchfuncs as mf "
   ]
  },
  {
   "cell_type": "markdown",
   "metadata": {},
   "source": [
    "##安定結婚問題\n",
    "------\n",
    "男3人と女3人の安定結婚問題を考える。  男3人をそれぞれM0, M1, M2、女3人をそれぞれF0, F1, F2とおき、各人の付き合いたい人の第一希望〜第三希望が以下の表のように与えられたとする。  \n",
    "\n",
    "|| 第一希望 | 第二希望 | 第三希望 |\n",
    "|:-----:|:-----------:|:------------:|:------------:|\n",
    "|**M0**| F0 | F1 | F2 |\n",
    "|**M1**| F0 | F2 | F1 |\n",
    "|**M2**| F2 | F0 | F1|\n",
    "\n",
    "|| 第一希望 | 第二希望 | 第三希望 |\n",
    "|:-----:|:-----------:|:------------:|:------------:|\n",
    "|**F0**| M2 | M0 | M1 |\n",
    "|**F1**| M2 | M0 | M1 |\n",
    "|**F2**| M1 | M2 | M0 |\n",
    "\n",
    "男性側がプロポーズをしていくとき、**Normal Matching Algorithm** (NM) と **Deffered Acceptance Algorithm** (DA) とでカップルの組がどう変わってくるかを以下で考察する。"
   ]
  },
  {
   "cell_type": "code",
   "execution_count": 2,
   "metadata": {
    "collapsed": true
   },
   "outputs": [],
   "source": [
    "prop_prefs = [[0, 1, 2],\n",
    "                         [0, 2, 1],\n",
    "                         [2, 0, 1]]\n",
    "resp_prefs = [[2, 0, 1],\n",
    "                         [2, 0, 1],\n",
    "                         [1, 2, 0]]"
   ]
  },
  {
   "cell_type": "markdown",
   "metadata": {},
   "source": [
    "##1) Normal Matching\n",
    "####マッチング過程  \n",
    "M0, M1はF0にプロポーズし、M2はF2にプロポーズをする。  \n",
    "このとき、M2は誰とも競合せずF2と付き合うことが出来るが、M0とM1は競合する。F0からすると、M1よりM0の方が好みなので、M1を断りM0と付き合うという選択を行う。  \n",
    "最後に、残ったM1は残ったF1にプロポーズして付き合う。  \n",
    "####マッチング結果\n",
    "M0 - F0  \n",
    "M1 - F1  \n",
    "M2 - F2\n",
    "####問題点\n",
    "M1は第三希望のF1と付き合い、F2は第二希望のM2と付き合うことになっている。しかし、M1とF2が付き合ってしまえば、M1は第二希望の人、F2は第一希望の人と付き合うことができ、双方の効用が増加する。故に、このときM1とF2はこのマッチング結果を破棄して駆け落ちするインセンティブが生じてしまうので、「不安定」なマッチングであったと言える。"
   ]
  },
  {
   "cell_type": "code",
   "execution_count": 3,
   "metadata": {
    "collapsed": true
   },
   "outputs": [],
   "source": [
    "prop_matched, resp_matched = mf.BOS(prop_prefs, resp_prefs)"
   ]
  },
  {
   "cell_type": "code",
   "execution_count": 4,
   "metadata": {
    "collapsed": false
   },
   "outputs": [
    {
     "data": {
      "text/plain": [
       "array([0, 1, 2])"
      ]
     },
     "execution_count": 4,
     "metadata": {},
     "output_type": "execute_result"
    }
   ],
   "source": [
    "prop_matched"
   ]
  },
  {
   "cell_type": "code",
   "execution_count": 5,
   "metadata": {
    "collapsed": false
   },
   "outputs": [
    {
     "data": {
      "text/plain": [
       "array([0, 1, 2])"
      ]
     },
     "execution_count": 5,
     "metadata": {},
     "output_type": "execute_result"
    }
   ],
   "source": [
    "resp_matched"
   ]
  },
  {
   "cell_type": "code",
   "execution_count": 6,
   "metadata": {
    "collapsed": false
   },
   "outputs": [
    {
     "data": {
      "image/png": "[encoded data removed]",
      "text/plain": [
       "<matplotlib.figure.Figure at 0x10441f8d0>"
      ]
     },
     "metadata": {},
     "output_type": "display_data"
    }
   ],
   "source": [
    "mf.Graph(prop_matched, resp_matched)"
   ]
  },
  {
   "cell_type": "markdown",
   "metadata": {},
   "source": [
    "##2) Deffered Acceptance\n",
    "####マッチング過程  \n",
    "M0, M1はF0にプロポーズし、M2はF2にプロポーズをする。  \n",
    "このとき、M2は誰とも競合せずF2と付き合うことが出来るが、M0とM1は競合する。F0からすると、M1よりM0の方が好みなので、M1を断りM0と付き合うという選択を行う。  \n",
    "残ったM1は第二希望のF2にプロポーズをする。F2はM2からプロポーズを受けて付き合おうとしていたが、M2よりM1の方が好みなので、M2を断りM1と付き合うという選択を行う。  \n",
    "残ったM2は第二希望のF0にプロポーズをする。F0はM0からプロポーズを受けて付き合おうとしていたが、M0よりM2の方が好みなので、M0を断りM2と付き合うという選択を行う。   \n",
    "残ったM0は第二希望のF1にプロポーズをして、誰とも競合せずに付き合う。\n",
    "####マッチング結果\n",
    "M0 - F1  \n",
    "M1 - F2  \n",
    "M2 - F0\n",
    "\n",
    "このアルゴリズムでは駆け落ちするペアは存在せず「安定」なマッチングが実現され、上記のアルゴリズムで生じた問題を回避することが出来た。"
   ]
  },
  {
   "cell_type": "code",
   "execution_count": 7,
   "metadata": {
    "collapsed": false
   },
   "outputs": [],
   "source": [
    "prop_matched, resp_matched = mf.DA(prop_prefs, resp_prefs)"
   ]
  },
  {
   "cell_type": "code",
   "execution_count": 8,
   "metadata": {
    "collapsed": false
   },
   "outputs": [
    {
     "data": {
      "text/plain": [
       "array([1, 2, 0])"
      ]
     },
     "execution_count": 8,
     "metadata": {},
     "output_type": "execute_result"
    }
   ],
   "source": [
    "prop_matched"
   ]
  },
  {
   "cell_type": "code",
   "execution_count": 9,
   "metadata": {
    "collapsed": false
   },
   "outputs": [
    {
     "data": {
      "text/plain": [
       "array([2, 0, 1])"
      ]
     },
     "execution_count": 9,
     "metadata": {},
     "output_type": "execute_result"
    }
   ],
   "source": [
    "resp_matched"
   ]
  },
  {
   "cell_type": "code",
   "execution_count": 10,
   "metadata": {
    "collapsed": false
   },
   "outputs": [
    {
     "data": {
      "image/png": "[encoded data removed]",
      "text/plain": [
       "<matplotlib.figure.Figure at 0x1039bcc90>"
      ]
     },
     "metadata": {},
     "output_type": "display_data"
    }
   ],
   "source": [
    "mf.Graph(prop_matched, resp_matched)"
   ]
  }
 ],
 "metadata": {
  "kernelspec": {
   "display_name": "Python 2",
   "language": "python",
   "name": "python2"
  },
  "language_info": {
   "codemirror_mode": {
    "name": "ipython",
    "version": 2
   },
   "file_extension": ".py",
   "mimetype": "text/x-python",
   "name": "python",
   "nbconvert_exporter": "python",
   "pygments_lexer": "ipython2",
   "version": "2.7.10"
  }
 },
 "nbformat": 4,
 "nbformat_minor": 0
}
