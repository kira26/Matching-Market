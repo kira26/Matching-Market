{
 "cells": [
  {
   "cell_type": "markdown",
   "metadata": {},
   "source": [
    "#卒業論文\n",
    "-----\n",
    "###第5章「シミュレーション分析」"
   ]
  },
  {
   "cell_type": "code",
   "execution_count": 1,
   "metadata": {
    "collapsed": false
   },
   "outputs": [],
   "source": [
    "# coding: UTF-8\n",
    "%matplotlib inline\n",
    "import itertools\n",
    "import numpy as np\n",
    "import matchfuncs as mf"
   ]
  },
  {
   "cell_type": "code",
   "execution_count": 2,
   "metadata": {
    "collapsed": true
   },
   "outputs": [],
   "source": [
    "prop_num = 345\n",
    "resp_num = 38\n",
    "alpha = 0.5\n",
    "beta = 1\n",
    "prop_caps = [1 for i in range(230)] + [2 for i in range(115)]\n",
    "resp_caps = [12 for i in range(25)] + [6 for i in range(13)]\n",
    "list_length = 2"
   ]
  },
  {
   "cell_type": "code",
   "execution_count": 3,
   "metadata": {
    "collapsed": true
   },
   "outputs": [],
   "source": [
    "bos_data = np.zeros(7)\n",
    "daadd_data = np.zeros(7)\n",
    "da_data = np.zeros(7)"
   ]
  },
  {
   "cell_type": "code",
   "execution_count": 4,
   "metadata": {
    "collapsed": false
   },
   "outputs": [],
   "source": [
    "t = 10000\n",
    "for i in range(t):\n",
    "    prop_prefs, resp_prefs, popularity, grade = mf.MakeCVprefs(prop_num, resp_num, alpha, beta)\n",
    "    bos_data += np.asarray(mf.Comp('BOS', prop_prefs, prop_prefs, resp_prefs, resp_caps, prop_caps, list_length))\n",
    "    daadd_data += np.asarray(mf.Comp('DAAdd', prop_prefs, prop_prefs, resp_prefs, resp_caps, prop_caps, list_length))\n",
    "    da_data += np.asarray(mf.Comp('DA', prop_prefs, prop_prefs, resp_prefs, resp_caps, prop_caps))\n",
    "bos_data /= t\n",
    "daadd_data /= t\n",
    "da_data /= t"
   ]
  },
  {
   "cell_type": "code",
   "execution_count": 5,
   "metadata": {
    "collapsed": false
   },
   "outputs": [
    {
     "name": "stdout",
     "output_type": "stream",
     "text": [
      "[ 240.3507     345.           4.2881     121.3594517  116.8141     106.4156\n",
      "  825.7327   ]\n",
      "[ 216.0581     345.           2.7225     110.3444166  152.6249     153.0434\n",
      "  934.6192   ]\n",
      "[  0.00000000e+00   3.45000000e+02   9.24105000e+00   1.27819164e+02\n",
      "   6.08445000e+01   0.00000000e+00   1.31100000e+04]\n"
     ]
    }
   ],
   "source": [
    "print(bos_data)\n",
    "print(daadd_data)\n",
    "print(da_data)"
   ]
  },
  {
   "cell_type": "markdown",
   "metadata": {},
   "source": [
    "|| 制度1 | 制度2 | 制度3 |\n",
    "|:-----:|:-----------:|:------------:|:------------:|\n",
    "|**安定性**| 240.35| 216.06 | 0 |\n",
    "|**耐戦略性**| 345 | 345 | 345 |\n",
    "|**効率性(生徒)**| 4.29 |  2.72 |  9.24  |\n",
    "|**効率性(ゼミ)**| 121.36 | 110.34 | 127.81 |\n",
    "|**衡平性(生徒)**| 116.81 | 152.62 | 60.84 |\n",
    "|**衡平性(ゼミ)**| 106.42 | 153.04 | 0 |\n",
    "|**実現可能性**| 825.73 | 934.62 | 13110 |"
   ]
  }
 ],
 "metadata": {
  "kernelspec": {
   "display_name": "Python 2",
   "language": "python",
   "name": "python2"
  },
  "language_info": {
   "codemirror_mode": {
    "name": "ipython",
    "version": 2
   },
   "file_extension": ".py",
   "mimetype": "text/x-python",
   "name": "python",
   "nbconvert_exporter": "python",
   "pygments_lexer": "ipython2",
   "version": "2.7.10"
  }
 },
 "nbformat": 4,
 "nbformat_minor": 0
}
