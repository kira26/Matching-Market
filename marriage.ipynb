{
 "cells": [
  {
   "cell_type": "markdown",
   "metadata": {},
   "source": [
    "安定結婚問題\n",
    "===\n",
    "ここでは[Wiki](http://ja.wikipedia.org/wiki/%E5%AE%89%E5%AE%9A%E7%B5%90%E5%A9%9A%E5%95%8F%E9%A1%8C)の例をもとに行います。  \n",
    "matching.pyで定義したクラスMarriageをimportして使います。"
   ]
  },
  {
   "cell_type": "code",
   "execution_count": 1,
   "metadata": {
    "collapsed": false
   },
   "outputs": [],
   "source": [
    "# coding: UTF-8\n",
    "%matplotlib inline\n",
    "from matching import * "
   ]
  },
  {
   "cell_type": "code",
   "execution_count": 2,
   "metadata": {
    "collapsed": false
   },
   "outputs": [],
   "source": [
    "malenum = 4\n",
    "femalenum = 4\n",
    "mprefer = [[0, 1, 2, 3],\n",
    "                    [2, 1, 0, 3],\n",
    "                    [0, 1, 3, 2],\n",
    "                    [2, 0, 3, 1]]\n",
    "fprefer = [[0, 1, 2, 3],\n",
    "                  [1, 0, 3, 2],\n",
    "                  [1, 2, 0, 3],\n",
    "                  [0, 3, 2, 1]]\n",
    "mname = [\"A\", \"B\", \"C\", \"D\"]\n",
    "fname = [\"E\", \"F\", \"G\", \"H\"]"
   ]
  },
  {
   "cell_type": "code",
   "execution_count": 3,
   "metadata": {
    "collapsed": false
   },
   "outputs": [],
   "source": [
    "M = Marriage(malenum, femalenum)"
   ]
  },
  {
   "cell_type": "code",
   "execution_count": 4,
   "metadata": {
    "collapsed": true
   },
   "outputs": [],
   "source": [
    "M.set_prefer(mprefer, fprefer)\n",
    "M.set_name(mname, fname)"
   ]
  },
  {
   "cell_type": "code",
   "execution_count": 5,
   "metadata": {
    "collapsed": false
   },
   "outputs": [
    {
     "data": {
      "text/plain": [
       "{'A': 'E',\n",
       " 'B': 'G',\n",
       " 'C': 'F',\n",
       " 'D': 'H',\n",
       " 'E': 'A',\n",
       " 'F': 'C',\n",
       " 'G': 'B',\n",
       " 'H': 'D'}"
      ]
     },
     "execution_count": 5,
     "metadata": {},
     "output_type": "execute_result"
    }
   ],
   "source": [
    "M.match()"
   ]
  },
  {
   "cell_type": "code",
   "execution_count": 6,
   "metadata": {
    "collapsed": false
   },
   "outputs": [
    {
     "data": {
      "image/png": "[encoded data removed]",
      "text/plain": [
       "<matplotlib.figure.Figure at 0x1070d62d0>"
      ]
     },
     "metadata": {},
     "output_type": "display_data"
    }
   ],
   "source": [
    "M.graph()"
   ]
  }
 ],
 "metadata": {
  "kernelspec": {
   "display_name": "Python 2",
   "language": "python",
   "name": "python2"
  },
  "language_info": {
   "codemirror_mode": {
    "name": "ipython",
    "version": 2
   },
   "file_extension": ".py",
   "mimetype": "text/x-python",
   "name": "python",
   "nbconvert_exporter": "python",
   "pygments_lexer": "ipython2",
   "version": "2.7.9"
  }
 },
 "nbformat": 4,
 "nbformat_minor": 0
}
